{
  "nbformat": 4,
  "nbformat_minor": 0,
  "metadata": {
    "colab": {
      "name": "Class_Activity_Lec03.ipynb",
      "provenance": [],
      "collapsed_sections": [],
      "include_colab_link": true
    },
    "kernelspec": {
      "name": "python3",
      "display_name": "Python 3"
    }
  },
  "cells": [
    {
      "cell_type": "markdown",
      "metadata": {
        "id": "view-in-github",
        "colab_type": "text"
      },
      "source": [
        "<a href=\"https://colab.research.google.com/github/patriclockhart/DataVizFall2020_Colab/blob/master/Class_Activity_Lec03_Lockhart_vFinal_withNYCAnalysis2.ipynb\" target=\"_parent\"><img src=\"https://colab.research.google.com/assets/colab-badge.svg\" alt=\"Open In Colab\"/></a>"
      ]
    },
    {
      "cell_type": "markdown",
      "metadata": {
        "id": "Byjnt3sW70g2",
        "colab_type": "text"
      },
      "source": [
        "# Visualize New York times database for COVID-19\n",
        "## Case study Bristol and Suffolk, MA"
      ]
    },
    {
      "cell_type": "markdown",
      "metadata": {
        "id": "-yRKZ88f8Eit",
        "colab_type": "text"
      },
      "source": [
        "## Loading US County Level Data"
      ]
    },
    {
      "cell_type": "code",
      "metadata": {
        "id": "FmC4_RXYRmTQ",
        "colab_type": "code",
        "colab": {}
      },
      "source": [
        "import pandas as pd\n",
        "import matplotlib.pyplot as plt"
      ],
      "execution_count": 1,
      "outputs": []
    },
    {
      "cell_type": "code",
      "metadata": {
        "id": "Zx2TID5Q79vH",
        "colab_type": "code",
        "colab": {}
      },
      "source": [
        "# https://github.com/nytimes/covid-19-data repository location\n",
        "db = \"https://raw.githubusercontent.com/nytimes/covid-19-data/master/us-counties.csv\"\n",
        "## loading data into dataframe\n",
        "## read csv online:\n",
        "df = pd.read_csv(db)\n"
      ],
      "execution_count": 2,
      "outputs": []
    },
    {
      "cell_type": "markdown",
      "metadata": {
        "id": "Qmo3W6WqZc-o",
        "colab_type": "text"
      },
      "source": [
        "# Explore data"
      ]
    },
    {
      "cell_type": "code",
      "metadata": {
        "id": "1LFMv0CP7vf_",
        "colab_type": "code",
        "colab": {
          "base_uri": "https://localhost:8080/",
          "height": 195
        },
        "outputId": "5d4062a0-fbb0-4458-b8f2-b4d39284dbec"
      },
      "source": [
        "df.head(5)"
      ],
      "execution_count": 3,
      "outputs": [
        {
          "output_type": "execute_result",
          "data": {
            "text/html": [
              "<div>\n",
              "<style scoped>\n",
              "    .dataframe tbody tr th:only-of-type {\n",
              "        vertical-align: middle;\n",
              "    }\n",
              "\n",
              "    .dataframe tbody tr th {\n",
              "        vertical-align: top;\n",
              "    }\n",
              "\n",
              "    .dataframe thead th {\n",
              "        text-align: right;\n",
              "    }\n",
              "</style>\n",
              "<table border=\"1\" class=\"dataframe\">\n",
              "  <thead>\n",
              "    <tr style=\"text-align: right;\">\n",
              "      <th></th>\n",
              "      <th>date</th>\n",
              "      <th>county</th>\n",
              "      <th>state</th>\n",
              "      <th>fips</th>\n",
              "      <th>cases</th>\n",
              "      <th>deaths</th>\n",
              "    </tr>\n",
              "  </thead>\n",
              "  <tbody>\n",
              "    <tr>\n",
              "      <th>0</th>\n",
              "      <td>2020-01-21</td>\n",
              "      <td>Snohomish</td>\n",
              "      <td>Washington</td>\n",
              "      <td>53061.0</td>\n",
              "      <td>1</td>\n",
              "      <td>0</td>\n",
              "    </tr>\n",
              "    <tr>\n",
              "      <th>1</th>\n",
              "      <td>2020-01-22</td>\n",
              "      <td>Snohomish</td>\n",
              "      <td>Washington</td>\n",
              "      <td>53061.0</td>\n",
              "      <td>1</td>\n",
              "      <td>0</td>\n",
              "    </tr>\n",
              "    <tr>\n",
              "      <th>2</th>\n",
              "      <td>2020-01-23</td>\n",
              "      <td>Snohomish</td>\n",
              "      <td>Washington</td>\n",
              "      <td>53061.0</td>\n",
              "      <td>1</td>\n",
              "      <td>0</td>\n",
              "    </tr>\n",
              "    <tr>\n",
              "      <th>3</th>\n",
              "      <td>2020-01-24</td>\n",
              "      <td>Cook</td>\n",
              "      <td>Illinois</td>\n",
              "      <td>17031.0</td>\n",
              "      <td>1</td>\n",
              "      <td>0</td>\n",
              "    </tr>\n",
              "    <tr>\n",
              "      <th>4</th>\n",
              "      <td>2020-01-24</td>\n",
              "      <td>Snohomish</td>\n",
              "      <td>Washington</td>\n",
              "      <td>53061.0</td>\n",
              "      <td>1</td>\n",
              "      <td>0</td>\n",
              "    </tr>\n",
              "  </tbody>\n",
              "</table>\n",
              "</div>"
            ],
            "text/plain": [
              "         date     county       state     fips  cases  deaths\n",
              "0  2020-01-21  Snohomish  Washington  53061.0      1       0\n",
              "1  2020-01-22  Snohomish  Washington  53061.0      1       0\n",
              "2  2020-01-23  Snohomish  Washington  53061.0      1       0\n",
              "3  2020-01-24       Cook    Illinois  17031.0      1       0\n",
              "4  2020-01-24  Snohomish  Washington  53061.0      1       0"
            ]
          },
          "metadata": {
            "tags": []
          },
          "execution_count": 3
        }
      ]
    },
    {
      "cell_type": "code",
      "metadata": {
        "id": "QpoWNDUxZgSJ",
        "colab_type": "code",
        "colab": {
          "base_uri": "https://localhost:8080/",
          "height": 134
        },
        "outputId": "e94725af-0352-459d-c070-64645911739f"
      },
      "source": [
        "df.nunique(axis=0, dropna=True)"
      ],
      "execution_count": 4,
      "outputs": [
        {
          "output_type": "execute_result",
          "data": {
            "text/plain": [
              "date        239\n",
              "county     1923\n",
              "state        55\n",
              "fips       3205\n",
              "cases     16559\n",
              "deaths     2429\n",
              "dtype: int64"
            ]
          },
          "metadata": {
            "tags": []
          },
          "execution_count": 4
        }
      ]
    },
    {
      "cell_type": "code",
      "metadata": {
        "id": "n6KHjGs7RwaS",
        "colab_type": "code",
        "colab": {
          "base_uri": "https://localhost:8080/",
          "height": 50
        },
        "outputId": "c779cc88-92ff-47a9-f97d-bd4376b512f1"
      },
      "source": [
        "# let us get fips for 2 counties  (Bristol and Suffolk, MA)\n",
        "## fips stands for : Federal Information Processing Standards\n",
        "\n",
        "## Okay, so this was listed in the class notes and video, so I'm going to say what each command is doing since this is how you do the command.\n",
        "## For each county, the command finds the dataframe (df) row that matches (by column) with county == Bristol and county == Suffolk, respectively\n",
        "## as well as where the state column matches Massachusetts.  Then, the fips value for that row is returned as a value of type int.\n",
        "## The use of .unique()[0] grabs the fips number from the dataframe structure rather than returning the number in a singleton dataframe.\n",
        "Bristol_fips = df[(df['county'] =='Bristol') & (df['state'] == 'Massachusetts')]['fips'].unique()[0].astype('int')\n",
        "Suffolk_fips = df[(df['county'] =='Suffolk') & (df['state'] == 'Massachusetts')]['fips'].unique()[0].astype('int')\n",
        "\n",
        "## straight forward, but the fips values for those counties are then shown on screen. the print(f'') command prints the string literal as defined at runtime.\n",
        "## thus, the values in the {} are calculated from the variables within at the exact place in the code where it is called, such as on each iteration of a loop.\n",
        "## This was implemented in Python 3.6 and replaces the previous print() format where the values in the {} would be designated by reference numbers which\n",
        "## were defined with a .format() statement later within the same print() command.\n",
        "print(f'Bristol_fips = {Bristol_fips}')\n",
        "print(f'Suffolk_fips = {Suffolk_fips}')\n",
        "\n"
      ],
      "execution_count": 5,
      "outputs": [
        {
          "output_type": "stream",
          "text": [
            "Bristol_fips = 25005\n",
            "Suffolk_fips = 25025\n"
          ],
          "name": "stdout"
        }
      ]
    },
    {
      "cell_type": "code",
      "metadata": {
        "id": "xYbzk8vCR8GE",
        "colab_type": "code",
        "colab": {
          "base_uri": "https://localhost:8080/",
          "height": 195
        },
        "outputId": "48677a8b-e756-4be3-b08c-5a34c74424b7"
      },
      "source": [
        "get_county_stat = df[(df['fips'] == Bristol_fips) | (df['fips'] == Suffolk_fips)]\n",
        "\n",
        "## the code from the class notes that I didn't use...\n",
        "## get one fips\n",
        "\n",
        "## def get_county_stat(df,fips):\n",
        "##   result = df[df['fips]] == fips][['date','county','state','cases','deaths']].copy()\n",
        "##   result.set_index('date', inplace = True)\n",
        "##   result.index = pd.to_datetime(result.index)\n",
        "##   return result\n",
        "\n",
        "#get_county_stat(df,25005).head()\n",
        "get_county_stat[(get_county_stat['fips'] == Bristol_fips)].head()"
      ],
      "execution_count": 6,
      "outputs": [
        {
          "output_type": "execute_result",
          "data": {
            "text/html": [
              "<div>\n",
              "<style scoped>\n",
              "    .dataframe tbody tr th:only-of-type {\n",
              "        vertical-align: middle;\n",
              "    }\n",
              "\n",
              "    .dataframe tbody tr th {\n",
              "        vertical-align: top;\n",
              "    }\n",
              "\n",
              "    .dataframe thead th {\n",
              "        text-align: right;\n",
              "    }\n",
              "</style>\n",
              "<table border=\"1\" class=\"dataframe\">\n",
              "  <thead>\n",
              "    <tr style=\"text-align: right;\">\n",
              "      <th></th>\n",
              "      <th>date</th>\n",
              "      <th>county</th>\n",
              "      <th>state</th>\n",
              "      <th>fips</th>\n",
              "      <th>cases</th>\n",
              "      <th>deaths</th>\n",
              "    </tr>\n",
              "  </thead>\n",
              "  <tbody>\n",
              "    <tr>\n",
              "      <th>2093</th>\n",
              "      <td>2020-03-14</td>\n",
              "      <td>Bristol</td>\n",
              "      <td>Massachusetts</td>\n",
              "      <td>25005.0</td>\n",
              "      <td>1</td>\n",
              "      <td>0</td>\n",
              "    </tr>\n",
              "    <tr>\n",
              "      <th>2494</th>\n",
              "      <td>2020-03-15</td>\n",
              "      <td>Bristol</td>\n",
              "      <td>Massachusetts</td>\n",
              "      <td>25005.0</td>\n",
              "      <td>1</td>\n",
              "      <td>0</td>\n",
              "    </tr>\n",
              "    <tr>\n",
              "      <th>2943</th>\n",
              "      <td>2020-03-16</td>\n",
              "      <td>Bristol</td>\n",
              "      <td>Massachusetts</td>\n",
              "      <td>25005.0</td>\n",
              "      <td>2</td>\n",
              "      <td>0</td>\n",
              "    </tr>\n",
              "    <tr>\n",
              "      <th>3444</th>\n",
              "      <td>2020-03-17</td>\n",
              "      <td>Bristol</td>\n",
              "      <td>Massachusetts</td>\n",
              "      <td>25005.0</td>\n",
              "      <td>5</td>\n",
              "      <td>0</td>\n",
              "    </tr>\n",
              "    <tr>\n",
              "      <th>4026</th>\n",
              "      <td>2020-03-18</td>\n",
              "      <td>Bristol</td>\n",
              "      <td>Massachusetts</td>\n",
              "      <td>25005.0</td>\n",
              "      <td>5</td>\n",
              "      <td>0</td>\n",
              "    </tr>\n",
              "  </tbody>\n",
              "</table>\n",
              "</div>"
            ],
            "text/plain": [
              "            date   county          state     fips  cases  deaths\n",
              "2093  2020-03-14  Bristol  Massachusetts  25005.0      1       0\n",
              "2494  2020-03-15  Bristol  Massachusetts  25005.0      1       0\n",
              "2943  2020-03-16  Bristol  Massachusetts  25005.0      2       0\n",
              "3444  2020-03-17  Bristol  Massachusetts  25005.0      5       0\n",
              "4026  2020-03-18  Bristol  Massachusetts  25005.0      5       0"
            ]
          },
          "metadata": {
            "tags": []
          },
          "execution_count": 6
        }
      ]
    },
    {
      "cell_type": "markdown",
      "metadata": {
        "id": "ZdvAU6NsXmXZ",
        "colab_type": "text"
      },
      "source": [
        "## Explore data type"
      ]
    },
    {
      "cell_type": "code",
      "metadata": {
        "id": "SqrW8_oTXlxH",
        "colab_type": "code",
        "colab": {}
      },
      "source": [
        "df_Bristol = get_county_stat[(get_county_stat['fips'] == Bristol_fips)].drop('fips',axis=1)\n",
        "df_Suffolk = get_county_stat[(get_county_stat['fips'] == Suffolk_fips)].drop('fips',axis=1)\n",
        "\n",
        "#df_Bristol = get_county_stat(df,25005)\n",
        "#df_Suffolk = get_county_stat(df,25025)\n"
      ],
      "execution_count": 7,
      "outputs": []
    },
    {
      "cell_type": "code",
      "metadata": {
        "id": "pvwkK_bxZvA2",
        "colab_type": "code",
        "colab": {
          "base_uri": "https://localhost:8080/",
          "height": 396
        },
        "outputId": "eeff23d5-8f2a-47f2-dbe3-ad5ccd3a4144"
      },
      "source": [
        "import matplotlib.pyplot as plt\n",
        "\n",
        "f,ax = plt.subplots(1,2,figsize=(18,6))\n",
        "\n",
        "ax[0].plot(df_Bristol['date'],df_Bristol['cases'],'c-.',label = 'Bristol cases')\n",
        "df_Bristol['date'] = pd.to_datetime(df_Bristol['date'])\n",
        "ax[0].plot(df_Bristol['date'],df_Bristol['deaths'],'y-.',label = 'Bristol deaths')\n",
        "ax[0].plot(df_Suffolk['date'],df_Suffolk['cases'],'b-.',label = 'Suffolk cases')\n",
        "## for some reason, this code section will only work if the next line of code is first run uncommented and then run again with it commented.\n",
        "df_Suffolk['date'] = pd.to_datetime(df_Suffolk['date']) \n",
        "##  I don't know why this is the case\n",
        "ax[0].plot(df_Suffolk['date'],df_Suffolk['deaths'],'r-.',label = 'Suffolk deaths')\n",
        "ax[0].set_title('Bristol vs Suffolk')\n",
        "ax[0].legend()\n",
        "\n",
        "\n",
        "ax[1].set_title('Deaths Comparison')\n",
        "ax[1].bar(df_Suffolk['date'][-90:],df_Suffolk['deaths'][-90:],label = 'Suffolk')\n",
        "ax[1].bar(df_Bristol['date'][-90:],df_Bristol['deaths'][-90:],label = 'Bristol',bottom = df_Suffolk['deaths'][-90:])\n",
        "ax[1].legend()\n",
        "f.autofmt_xdate(rotation=45) #I added this because the extra tick mark in Sept caused word overlap with x-axis ticks.  Comment to make look like the desired output.\n"
      ],
      "execution_count": 18,
      "outputs": [
        {
          "output_type": "display_data",
          "data": {
            "image/png": "[encoded data removed]",
            "text/plain": [
              "<Figure size 1296x432 with 2 Axes>"
            ]
          },
          "metadata": {
            "tags": [],
            "needs_background": "light"
          }
        }
      ]
    },
    {
      "cell_type": "code",
      "metadata": {
        "id": "lYE52OMEf5-r",
        "colab_type": "code",
        "colab": {}
      },
      "source": [
        "df_byDeaths = df.sort_values(by = 'deaths', ascending = False)\n",
        "df_byDeaths.head(5)\n",
        "print('Sorted by number of deaths')\n",
        "print(df_byDeaths.head(10))\n",
        "\n",
        "df_byCases = df.sort_values(by = 'cases', ascending = False)\n",
        "print('')\n",
        "print('')\n",
        "print('Sorted by number of cases')\n",
        "print(df_byCases.head(10))\n"
      ],
      "execution_count": null,
      "outputs": []
    },
    {
      "cell_type": "markdown",
      "metadata": {
        "id": "3Ir7AQGfSrl7",
        "colab_type": "text"
      },
      "source": [
        "## Top 10 counties by number of cases and deaths \n",
        "\n",
        "\n",
        "\n",
        "```\n",
        "# This is formatted as code\n",
        "```\n",
        "\n",
        "\n",
        "\n"
      ]
    },
    {
      "cell_type": "markdown",
      "metadata": {
        "id": "aHvTcmdfgy38",
        "colab_type": "text"
      },
      "source": [
        "## Death rate Per FIPS "
      ]
    },
    {
      "cell_type": "code",
      "metadata": {
        "id": "9fNijuO8R9Hx",
        "colab_type": "code",
        "colab": {
          "base_uri": "https://localhost:8080/",
          "height": 935
        },
        "outputId": "3fbf53db-d50a-414c-e053-615ec2425f01"
      },
      "source": [
        "#Death rate should be the .diff() of deaths\n",
        "\n",
        "def get_death_rate(df,fips):\n",
        "  get_county = df[df['fips'] == fips].copy()\n",
        "  sort_county = get_county.sort_values(by = 'date', ascending = True)\n",
        "  sort_county['Death rate'] = sort_county['deaths'].diff()\n",
        "  return sort_county\n",
        "\n",
        "df_DR = get_death_rate(df,Bristol_fips)\n",
        "df_DR.head(30)\n",
        "\n",
        "## From here just type in the fips ID for the desired county, and the death rate will be added as the last column to the DataFrame.\n"
      ],
      "execution_count": 9,
      "outputs": [
        {
          "output_type": "execute_result",
          "data": {
            "text/html": [
              "<div>\n",
              "<style scoped>\n",
              "    .dataframe tbody tr th:only-of-type {\n",
              "        vertical-align: middle;\n",
              "    }\n",
              "\n",
              "    .dataframe tbody tr th {\n",
              "        vertical-align: top;\n",
              "    }\n",
              "\n",
              "    .dataframe thead th {\n",
              "        text-align: right;\n",
              "    }\n",
              "</style>\n",
              "<table border=\"1\" class=\"dataframe\">\n",
              "  <thead>\n",
              "    <tr style=\"text-align: right;\">\n",
              "      <th></th>\n",
              "      <th>date</th>\n",
              "      <th>county</th>\n",
              "      <th>state</th>\n",
              "      <th>fips</th>\n",
              "      <th>cases</th>\n",
              "      <th>deaths</th>\n",
              "      <th>Death rate</th>\n",
              "    </tr>\n",
              "  </thead>\n",
              "  <tbody>\n",
              "    <tr>\n",
              "      <th>2093</th>\n",
              "      <td>2020-03-14</td>\n",
              "      <td>Bristol</td>\n",
              "      <td>Massachusetts</td>\n",
              "      <td>25005.0</td>\n",
              "      <td>1</td>\n",
              "      <td>0</td>\n",
              "      <td>NaN</td>\n",
              "    </tr>\n",
              "    <tr>\n",
              "      <th>2494</th>\n",
              "      <td>2020-03-15</td>\n",
              "      <td>Bristol</td>\n",
              "      <td>Massachusetts</td>\n",
              "      <td>25005.0</td>\n",
              "      <td>1</td>\n",
              "      <td>0</td>\n",
              "      <td>0.0</td>\n",
              "    </tr>\n",
              "    <tr>\n",
              "      <th>2943</th>\n",
              "      <td>2020-03-16</td>\n",
              "      <td>Bristol</td>\n",
              "      <td>Massachusetts</td>\n",
              "      <td>25005.0</td>\n",
              "      <td>2</td>\n",
              "      <td>0</td>\n",
              "      <td>0.0</td>\n",
              "    </tr>\n",
              "    <tr>\n",
              "      <th>3444</th>\n",
              "      <td>2020-03-17</td>\n",
              "      <td>Bristol</td>\n",
              "      <td>Massachusetts</td>\n",
              "      <td>25005.0</td>\n",
              "      <td>5</td>\n",
              "      <td>0</td>\n",
              "      <td>0.0</td>\n",
              "    </tr>\n",
              "    <tr>\n",
              "      <th>4026</th>\n",
              "      <td>2020-03-18</td>\n",
              "      <td>Bristol</td>\n",
              "      <td>Massachusetts</td>\n",
              "      <td>25005.0</td>\n",
              "      <td>5</td>\n",
              "      <td>0</td>\n",
              "      <td>0.0</td>\n",
              "    </tr>\n",
              "    <tr>\n",
              "      <th>4730</th>\n",
              "      <td>2020-03-19</td>\n",
              "      <td>Bristol</td>\n",
              "      <td>Massachusetts</td>\n",
              "      <td>25005.0</td>\n",
              "      <td>6</td>\n",
              "      <td>0</td>\n",
              "      <td>0.0</td>\n",
              "    </tr>\n",
              "    <tr>\n",
              "      <th>5549</th>\n",
              "      <td>2020-03-20</td>\n",
              "      <td>Bristol</td>\n",
              "      <td>Massachusetts</td>\n",
              "      <td>25005.0</td>\n",
              "      <td>6</td>\n",
              "      <td>0</td>\n",
              "      <td>0.0</td>\n",
              "    </tr>\n",
              "    <tr>\n",
              "      <th>6508</th>\n",
              "      <td>2020-03-21</td>\n",
              "      <td>Bristol</td>\n",
              "      <td>Massachusetts</td>\n",
              "      <td>25005.0</td>\n",
              "      <td>14</td>\n",
              "      <td>0</td>\n",
              "      <td>0.0</td>\n",
              "    </tr>\n",
              "    <tr>\n",
              "      <th>7585</th>\n",
              "      <td>2020-03-22</td>\n",
              "      <td>Bristol</td>\n",
              "      <td>Massachusetts</td>\n",
              "      <td>25005.0</td>\n",
              "      <td>24</td>\n",
              "      <td>0</td>\n",
              "      <td>0.0</td>\n",
              "    </tr>\n",
              "    <tr>\n",
              "      <th>8757</th>\n",
              "      <td>2020-03-23</td>\n",
              "      <td>Bristol</td>\n",
              "      <td>Massachusetts</td>\n",
              "      <td>25005.0</td>\n",
              "      <td>25</td>\n",
              "      <td>0</td>\n",
              "      <td>0.0</td>\n",
              "    </tr>\n",
              "    <tr>\n",
              "      <th>10046</th>\n",
              "      <td>2020-03-24</td>\n",
              "      <td>Bristol</td>\n",
              "      <td>Massachusetts</td>\n",
              "      <td>25005.0</td>\n",
              "      <td>31</td>\n",
              "      <td>0</td>\n",
              "      <td>0.0</td>\n",
              "    </tr>\n",
              "    <tr>\n",
              "      <th>11457</th>\n",
              "      <td>2020-03-25</td>\n",
              "      <td>Bristol</td>\n",
              "      <td>Massachusetts</td>\n",
              "      <td>25005.0</td>\n",
              "      <td>67</td>\n",
              "      <td>0</td>\n",
              "      <td>0.0</td>\n",
              "    </tr>\n",
              "    <tr>\n",
              "      <th>13038</th>\n",
              "      <td>2020-03-26</td>\n",
              "      <td>Bristol</td>\n",
              "      <td>Massachusetts</td>\n",
              "      <td>25005.0</td>\n",
              "      <td>90</td>\n",
              "      <td>0</td>\n",
              "      <td>0.0</td>\n",
              "    </tr>\n",
              "    <tr>\n",
              "      <th>14746</th>\n",
              "      <td>2020-03-27</td>\n",
              "      <td>Bristol</td>\n",
              "      <td>Massachusetts</td>\n",
              "      <td>25005.0</td>\n",
              "      <td>129</td>\n",
              "      <td>1</td>\n",
              "      <td>1.0</td>\n",
              "    </tr>\n",
              "    <tr>\n",
              "      <th>16566</th>\n",
              "      <td>2020-03-28</td>\n",
              "      <td>Bristol</td>\n",
              "      <td>Massachusetts</td>\n",
              "      <td>25005.0</td>\n",
              "      <td>179</td>\n",
              "      <td>1</td>\n",
              "      <td>0.0</td>\n",
              "    </tr>\n",
              "    <tr>\n",
              "      <th>18481</th>\n",
              "      <td>2020-03-29</td>\n",
              "      <td>Bristol</td>\n",
              "      <td>Massachusetts</td>\n",
              "      <td>25005.0</td>\n",
              "      <td>208</td>\n",
              "      <td>1</td>\n",
              "      <td>0.0</td>\n",
              "    </tr>\n",
              "    <tr>\n",
              "      <th>20497</th>\n",
              "      <td>2020-03-30</td>\n",
              "      <td>Bristol</td>\n",
              "      <td>Massachusetts</td>\n",
              "      <td>25005.0</td>\n",
              "      <td>263</td>\n",
              "      <td>2</td>\n",
              "      <td>1.0</td>\n",
              "    </tr>\n",
              "    <tr>\n",
              "      <th>22606</th>\n",
              "      <td>2020-03-31</td>\n",
              "      <td>Bristol</td>\n",
              "      <td>Massachusetts</td>\n",
              "      <td>25005.0</td>\n",
              "      <td>306</td>\n",
              "      <td>2</td>\n",
              "      <td>0.0</td>\n",
              "    </tr>\n",
              "    <tr>\n",
              "      <th>24785</th>\n",
              "      <td>2020-04-01</td>\n",
              "      <td>Bristol</td>\n",
              "      <td>Massachusetts</td>\n",
              "      <td>25005.0</td>\n",
              "      <td>366</td>\n",
              "      <td>3</td>\n",
              "      <td>1.0</td>\n",
              "    </tr>\n",
              "    <tr>\n",
              "      <th>27037</th>\n",
              "      <td>2020-04-02</td>\n",
              "      <td>Bristol</td>\n",
              "      <td>Massachusetts</td>\n",
              "      <td>25005.0</td>\n",
              "      <td>424</td>\n",
              "      <td>3</td>\n",
              "      <td>0.0</td>\n",
              "    </tr>\n",
              "    <tr>\n",
              "      <th>29355</th>\n",
              "      <td>2020-04-03</td>\n",
              "      <td>Bristol</td>\n",
              "      <td>Massachusetts</td>\n",
              "      <td>25005.0</td>\n",
              "      <td>517</td>\n",
              "      <td>4</td>\n",
              "      <td>1.0</td>\n",
              "    </tr>\n",
              "    <tr>\n",
              "      <th>31733</th>\n",
              "      <td>2020-04-04</td>\n",
              "      <td>Bristol</td>\n",
              "      <td>Massachusetts</td>\n",
              "      <td>25005.0</td>\n",
              "      <td>601</td>\n",
              "      <td>5</td>\n",
              "      <td>1.0</td>\n",
              "    </tr>\n",
              "    <tr>\n",
              "      <th>34158</th>\n",
              "      <td>2020-04-05</td>\n",
              "      <td>Bristol</td>\n",
              "      <td>Massachusetts</td>\n",
              "      <td>25005.0</td>\n",
              "      <td>659</td>\n",
              "      <td>8</td>\n",
              "      <td>3.0</td>\n",
              "    </tr>\n",
              "    <tr>\n",
              "      <th>36617</th>\n",
              "      <td>2020-04-06</td>\n",
              "      <td>Bristol</td>\n",
              "      <td>Massachusetts</td>\n",
              "      <td>25005.0</td>\n",
              "      <td>722</td>\n",
              "      <td>8</td>\n",
              "      <td>0.0</td>\n",
              "    </tr>\n",
              "    <tr>\n",
              "      <th>39125</th>\n",
              "      <td>2020-04-07</td>\n",
              "      <td>Bristol</td>\n",
              "      <td>Massachusetts</td>\n",
              "      <td>25005.0</td>\n",
              "      <td>768</td>\n",
              "      <td>16</td>\n",
              "      <td>8.0</td>\n",
              "    </tr>\n",
              "    <tr>\n",
              "      <th>41677</th>\n",
              "      <td>2020-04-08</td>\n",
              "      <td>Bristol</td>\n",
              "      <td>Massachusetts</td>\n",
              "      <td>25005.0</td>\n",
              "      <td>835</td>\n",
              "      <td>23</td>\n",
              "      <td>7.0</td>\n",
              "    </tr>\n",
              "    <tr>\n",
              "      <th>44253</th>\n",
              "      <td>2020-04-09</td>\n",
              "      <td>Bristol</td>\n",
              "      <td>Massachusetts</td>\n",
              "      <td>25005.0</td>\n",
              "      <td>994</td>\n",
              "      <td>28</td>\n",
              "      <td>5.0</td>\n",
              "    </tr>\n",
              "    <tr>\n",
              "      <th>46861</th>\n",
              "      <td>2020-04-10</td>\n",
              "      <td>Bristol</td>\n",
              "      <td>Massachusetts</td>\n",
              "      <td>25005.0</td>\n",
              "      <td>1086</td>\n",
              "      <td>33</td>\n",
              "      <td>5.0</td>\n",
              "    </tr>\n",
              "    <tr>\n",
              "      <th>49503</th>\n",
              "      <td>2020-04-11</td>\n",
              "      <td>Bristol</td>\n",
              "      <td>Massachusetts</td>\n",
              "      <td>25005.0</td>\n",
              "      <td>1191</td>\n",
              "      <td>39</td>\n",
              "      <td>6.0</td>\n",
              "    </tr>\n",
              "    <tr>\n",
              "      <th>52173</th>\n",
              "      <td>2020-04-12</td>\n",
              "      <td>Bristol</td>\n",
              "      <td>Massachusetts</td>\n",
              "      <td>25005.0</td>\n",
              "      <td>1327</td>\n",
              "      <td>43</td>\n",
              "      <td>4.0</td>\n",
              "    </tr>\n",
              "  </tbody>\n",
              "</table>\n",
              "</div>"
            ],
            "text/plain": [
              "             date   county          state     fips  cases  deaths  Death rate\n",
              "2093   2020-03-14  Bristol  Massachusetts  25005.0      1       0         NaN\n",
              "2494   2020-03-15  Bristol  Massachusetts  25005.0      1       0         0.0\n",
              "2943   2020-03-16  Bristol  Massachusetts  25005.0      2       0         0.0\n",
              "3444   2020-03-17  Bristol  Massachusetts  25005.0      5       0         0.0\n",
              "4026   2020-03-18  Bristol  Massachusetts  25005.0      5       0         0.0\n",
              "4730   2020-03-19  Bristol  Massachusetts  25005.0      6       0         0.0\n",
              "5549   2020-03-20  Bristol  Massachusetts  25005.0      6       0         0.0\n",
              "6508   2020-03-21  Bristol  Massachusetts  25005.0     14       0         0.0\n",
              "7585   2020-03-22  Bristol  Massachusetts  25005.0     24       0         0.0\n",
              "8757   2020-03-23  Bristol  Massachusetts  25005.0     25       0         0.0\n",
              "10046  2020-03-24  Bristol  Massachusetts  25005.0     31       0         0.0\n",
              "11457  2020-03-25  Bristol  Massachusetts  25005.0     67       0         0.0\n",
              "13038  2020-03-26  Bristol  Massachusetts  25005.0     90       0         0.0\n",
              "14746  2020-03-27  Bristol  Massachusetts  25005.0    129       1         1.0\n",
              "16566  2020-03-28  Bristol  Massachusetts  25005.0    179       1         0.0\n",
              "18481  2020-03-29  Bristol  Massachusetts  25005.0    208       1         0.0\n",
              "20497  2020-03-30  Bristol  Massachusetts  25005.0    263       2         1.0\n",
              "22606  2020-03-31  Bristol  Massachusetts  25005.0    306       2         0.0\n",
              "24785  2020-04-01  Bristol  Massachusetts  25005.0    366       3         1.0\n",
              "27037  2020-04-02  Bristol  Massachusetts  25005.0    424       3         0.0\n",
              "29355  2020-04-03  Bristol  Massachusetts  25005.0    517       4         1.0\n",
              "31733  2020-04-04  Bristol  Massachusetts  25005.0    601       5         1.0\n",
              "34158  2020-04-05  Bristol  Massachusetts  25005.0    659       8         3.0\n",
              "36617  2020-04-06  Bristol  Massachusetts  25005.0    722       8         0.0\n",
              "39125  2020-04-07  Bristol  Massachusetts  25005.0    768      16         8.0\n",
              "41677  2020-04-08  Bristol  Massachusetts  25005.0    835      23         7.0\n",
              "44253  2020-04-09  Bristol  Massachusetts  25005.0    994      28         5.0\n",
              "46861  2020-04-10  Bristol  Massachusetts  25005.0   1086      33         5.0\n",
              "49503  2020-04-11  Bristol  Massachusetts  25005.0   1191      39         6.0\n",
              "52173  2020-04-12  Bristol  Massachusetts  25005.0   1327      43         4.0"
            ]
          },
          "metadata": {
            "tags": []
          },
          "execution_count": 9
        }
      ]
    },
    {
      "cell_type": "markdown",
      "metadata": {
        "id": "03d25NxSj6kE",
        "colab_type": "text"
      },
      "source": [
        "#NYC is comprised of:\n",
        "### Bronx: Bronx County (FIPS 36005)\n",
        "### Brooklyn: Kings County (FIPS 36047)\n",
        "### Manhattan: New York County (FIPS 36061)\n",
        "### Queens: Queens County (FIPS 36081)\n",
        "### Staten Island: Richmond County (FIPS 36085)\n"
      ]
    },
    {
      "cell_type": "code",
      "metadata": {
        "id": "1lJmC-FEhhY-",
        "colab_type": "code",
        "colab": {
          "base_uri": "https://localhost:8080/",
          "height": 854
        },
        "outputId": "6aed8ee9-8599-4260-b066-513ccb0fa570"
      },
      "source": [
        "df_Bronx = get_death_rate(df,36005)\n",
        "df_Brooklyn = get_death_rate(df,36047)\n",
        "df_Manhattan = get_death_rate(df,36061)\n",
        "df_Queens = get_death_rate(df,36081)\n",
        "df_Staten = get_death_rate(df,36085)\n",
        "\n",
        "df_BronxMax = df_Bronx.max()\n",
        "df_BrooklynMax = df_Brooklyn.max()\n",
        "df_ManhattanMax = df_Manhattan.max()\n",
        "df_QueensMax = df_Queens.max()\n",
        "df_StatenMax = df_Staten.max()\n",
        "\n",
        "get_NYC = df[df['county'] == 'New York City'].copy()\n",
        "sort_NYC = get_NYC.sort_values(by = 'date', ascending = True)\n",
        "sort_NYC['Death rate'] = sort_NYC['deaths'].diff()\n",
        "fips_NYC = sort_NYC.max()\n",
        "\n",
        "print(df_BronxMax)\n",
        "print(df_BrooklynMax)\n",
        "print(df_ManhattanMax)\n",
        "print(df_QueensMax)\n",
        "print(df_StatenMax)\n",
        "print(fips_NYC)\n",
        "df_Bronx.head(5)"
      ],
      "execution_count": 17,
      "outputs": [
        {
          "output_type": "stream",
          "text": [
            "date         NaN\n",
            "county       NaN\n",
            "state        NaN\n",
            "fips         NaN\n",
            "cases        NaN\n",
            "deaths       NaN\n",
            "Death rate   NaN\n",
            "dtype: float64\n",
            "date         NaN\n",
            "county       NaN\n",
            "state        NaN\n",
            "fips         NaN\n",
            "cases        NaN\n",
            "deaths       NaN\n",
            "Death rate   NaN\n",
            "dtype: float64\n",
            "date         NaN\n",
            "county       NaN\n",
            "state        NaN\n",
            "fips         NaN\n",
            "cases        NaN\n",
            "deaths       NaN\n",
            "Death rate   NaN\n",
            "dtype: float64\n",
            "date         NaN\n",
            "county       NaN\n",
            "state        NaN\n",
            "fips         NaN\n",
            "cases        NaN\n",
            "deaths       NaN\n",
            "Death rate   NaN\n",
            "dtype: float64\n",
            "date         NaN\n",
            "county       NaN\n",
            "state        NaN\n",
            "fips         NaN\n",
            "cases        NaN\n",
            "deaths       NaN\n",
            "Death rate   NaN\n",
            "dtype: float64\n",
            "date             2020-09-15\n",
            "county        New York City\n",
            "state              New York\n",
            "fips                   None\n",
            "cases                243061\n",
            "deaths                23758\n",
            "Death rate             1221\n",
            "dtype: object\n"
          ],
          "name": "stdout"
        },
        {
          "output_type": "execute_result",
          "data": {
            "text/html": [
              "<div>\n",
              "<style scoped>\n",
              "    .dataframe tbody tr th:only-of-type {\n",
              "        vertical-align: middle;\n",
              "    }\n",
              "\n",
              "    .dataframe tbody tr th {\n",
              "        vertical-align: top;\n",
              "    }\n",
              "\n",
              "    .dataframe thead th {\n",
              "        text-align: right;\n",
              "    }\n",
              "</style>\n",
              "<table border=\"1\" class=\"dataframe\">\n",
              "  <thead>\n",
              "    <tr style=\"text-align: right;\">\n",
              "      <th></th>\n",
              "      <th>date</th>\n",
              "      <th>county</th>\n",
              "      <th>state</th>\n",
              "      <th>fips</th>\n",
              "      <th>cases</th>\n",
              "      <th>deaths</th>\n",
              "      <th>Death rate</th>\n",
              "    </tr>\n",
              "  </thead>\n",
              "  <tbody>\n",
              "  </tbody>\n",
              "</table>\n",
              "</div>"
            ],
            "text/plain": [
              "Empty DataFrame\n",
              "Columns: [date, county, state, fips, cases, deaths, Death rate]\n",
              "Index: []"
            ]
          },
          "metadata": {
            "tags": []
          },
          "execution_count": 17
        }
      ]
    },
    {
      "cell_type": "markdown",
      "metadata": {
        "id": "DXfWTK7Cn3xJ",
        "colab_type": "text"
      },
      "source": [
        "###Answer: Thus, this shows that there are no county FIPS listings for the respective constituent counties in NYC in the dataset.  They're combined into a composite number for NYC but are not available separately in this dataset."
      ]
    },
    {
      "cell_type": "markdown",
      "metadata": {
        "id": "FqTGKtk5hQ-I",
        "colab_type": "text"
      },
      "source": [
        "## <font color = red> Bonus Point</font>\n",
        "\n",
        "### A function that makes \"Folium Choropleth Map\" for Weekly Cases, Weekly Deaths and Weekly Mortality Rate </font>\n",
        "\n",
        "ALL COUNTIES\n",
        "\n",
        "<br>\n",
        "\n",
        "### def Folium_Choropleth(type = 'cases',date=''):\n",
        "\n",
        "<br>\n",
        "\n",
        "## Due for Bonus point : Friday (09/11/2020 11:59pm)"
      ]
    },
    {
      "cell_type": "code",
      "metadata": {
        "id": "Qi9EZlbmhPh2",
        "colab_type": "code",
        "colab": {}
      },
      "source": [
        ""
      ],
      "execution_count": null,
      "outputs": []
    },
    {
      "cell_type": "code",
      "metadata": {
        "id": "QM_OR4VxSqEN",
        "colab_type": "code",
        "colab": {}
      },
      "source": [
        ""
      ],
      "execution_count": null,
      "outputs": []
    },
    {
      "cell_type": "code",
      "metadata": {
        "id": "296nY_KHhOc0",
        "colab_type": "code",
        "colab": {}
      },
      "source": [
        ""
      ],
      "execution_count": null,
      "outputs": []
    }
  ]
}